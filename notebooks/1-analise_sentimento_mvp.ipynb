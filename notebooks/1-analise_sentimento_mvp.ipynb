{
 "cells": [
  {
   "cell_type": "markdown",
   "metadata": {
    "application/vnd.databricks.v1+cell": {
     "cellMetadata": {
      "byteLimit": 2048000,
      "rowLimit": 10000
     },
     "inputWidgets": {},
     "nuid": "39cf8dba-1426-4beb-9533-db04304f6468",
     "showTitle": false,
     "tableResultSettingsMap": {},
     "title": ""
    }
   },
   "source": [
    "# Análise de Sentimento de Reviews (MVP - Semana 2)\n",
    "\n",
    "Este notebook cumpre os requisitos da Semana 2 do projeto de Big Data. O objetivo é carregar os reviews de produtos coletados na Semana 1, realizar a limpeza e o pré-processamento do texto, aplicar um modelo de Processamento de Linguagem Natural (NLP) para classificar o sentimento de cada review e, por fim, salvar o resultado em um novo arquivo CSV.\n",
    "\n",
    "**Processo:**\n",
    "1.  **Carregamento dos Dados:** Leitura do arquivo `comentarios_produtos.csv`.\n",
    "2.  **Limpeza e Pré-processamento:** Normalização do texto para remover ruídos.\n",
    "3.  **Análise de Sentimento:** Aplicação de um modelo híbrido para classificação.\n",
    "4.  **Salvamento:** Gravação do resultado final."
   ]
  },
  {
   "cell_type": "markdown",
   "metadata": {
    "application/vnd.databricks.v1+cell": {
     "cellMetadata": {
      "byteLimit": 2048000,
      "rowLimit": 10000
     },
     "inputWidgets": {},
     "nuid": "f49a98de-5a58-4b5f-a42e-7dc4e065b4c5",
     "showTitle": false,
     "tableResultSettingsMap": {},
     "title": ""
    }
   },
   "source": [
    "### Passo 0: Instalação de Dependências\n",
    "\n",
    "Esta célula instala as bibliotecas Python necessárias para o notebook.\n",
    "\n",
    "* `leia-br`: Biblioteca para análise de sentimento em português.\n",
    "* `unidecode`: Ferramenta para normalização de texto e remoção de acentos.\n",
    "\n",
    "Após a instalação, o kernel do Python é reiniciado automaticamente para carregar as novas bibliotecas."
   ]
  },
  {
   "cell_type": "code",
   "execution_count": 23,
   "metadata": {
    "application/vnd.databricks.v1+cell": {
     "cellMetadata": {
      "byteLimit": 2048000,
      "rowLimit": 10000
     },
     "inputWidgets": {},
     "nuid": "11addd86-ae12-4d79-a650-0b98acff5ee4",
     "showTitle": false,
     "tableResultSettingsMap": {},
     "title": ""
    }
   },
   "outputs": [
    {
     "name": "stdout",
     "output_type": "stream",
     "text": [
      "Requirement already satisfied: leia-br in c:\\users\\teste\\appdata\\local\\programs\\python\\python313\\lib\\site-packages (0.0.1)\n",
      "Requirement already satisfied: unidecode in c:\\users\\teste\\appdata\\local\\programs\\python\\python313\\lib\\site-packages (1.4.0)\n",
      "Requirement already satisfied: requests in c:\\users\\teste\\appdata\\local\\programs\\python\\python313\\lib\\site-packages (from leia-br) (2.32.4)\n",
      "Requirement already satisfied: charset_normalizer<4,>=2 in c:\\users\\teste\\appdata\\local\\programs\\python\\python313\\lib\\site-packages (from requests->leia-br) (3.4.2)\n",
      "Requirement already satisfied: idna<4,>=2.5 in c:\\users\\teste\\appdata\\local\\programs\\python\\python313\\lib\\site-packages (from requests->leia-br) (3.10)\n",
      "Requirement already satisfied: urllib3<3,>=1.21.1 in c:\\users\\teste\\appdata\\local\\programs\\python\\python313\\lib\\site-packages (from requests->leia-br) (2.5.0)\n",
      "Requirement already satisfied: certifi>=2017.4.17 in c:\\users\\teste\\appdata\\local\\programs\\python\\python313\\lib\\site-packages (from requests->leia-br) (2025.7.9)\n",
      "Note: you may need to restart the kernel to use updated packages.\n"
     ]
    },
    {
     "name": "stderr",
     "output_type": "stream",
     "text": [
      "\n",
      "[notice] A new release of pip is available: 25.2 -> 25.3\n",
      "[notice] To update, run: python.exe -m pip install --upgrade pip\n"
     ]
    }
   ],
   "source": [
    "# Instala as bibliotecas necessárias para a análise\n",
    "%pip install leia-br unidecode\n",
    "\n",
    "# Reinicia o kernel do Python para que as bibliotecas instaladas fiquem disponíveis\n",
    "# dbutils.library.restartPython()"
   ]
  },
  {
   "cell_type": "markdown",
   "metadata": {
    "application/vnd.databricks.v1+cell": {
     "cellMetadata": {
      "byteLimit": 2048000,
      "rowLimit": 10000
     },
     "inputWidgets": {},
     "nuid": "62f572a3-7640-44fb-bbb1-b7416deb07c6",
     "showTitle": false,
     "tableResultSettingsMap": {},
     "title": ""
    }
   },
   "source": [
    "### Passo 1: Setup e Carregamento dos Dados\n",
    "\n",
    "A primeira etapa do nosso processo ETL (Extração, Transformação, Carga) é a **Extração**. Nesta fase, vamos importar as bibliotecas Python que serão utilizadas e carregar os dados brutos de comentários que foram coletados na Semana 1.\n",
    "\n",
    "O arquivo `comentarios_produtos.csv`, armazenado em um Volume do Databricks, será lido e carregado em um DataFrame da biblioteca `pandas`, que é a estrutura fundamental sobre a qual faremos todas as nossas manipulações."
   ]
  },
  {
   "cell_type": "code",
   "execution_count": 24,
   "metadata": {
    "application/vnd.databricks.v1+cell": {
     "cellMetadata": {
      "byteLimit": 2048000,
      "rowLimit": 10000
     },
     "inputWidgets": {},
     "nuid": "08dd55b2-61e1-4add-98c0-ea27e177e95f",
     "showTitle": false,
     "tableResultSettingsMap": {},
     "title": ""
    }
   },
   "outputs": [
    {
     "name": "stdout",
     "output_type": "stream",
     "text": [
      "Módulo 'text_processor' importado com sucesso!\n",
      "Arquivo de comentários carregado com sucesso!\n"
     ]
    },
    {
     "data": {
      "text/html": [
       "<div>\n",
       "<style scoped>\n",
       "    .dataframe tbody tr th:only-of-type {\n",
       "        vertical-align: middle;\n",
       "    }\n",
       "\n",
       "    .dataframe tbody tr th {\n",
       "        vertical-align: top;\n",
       "    }\n",
       "\n",
       "    .dataframe thead th {\n",
       "        text-align: right;\n",
       "    }\n",
       "</style>\n",
       "<table border=\"1\" class=\"dataframe\">\n",
       "  <thead>\n",
       "    <tr style=\"text-align: right;\">\n",
       "      <th></th>\n",
       "      <th>id_produto</th>\n",
       "      <th>id_avaliacoes</th>\n",
       "      <th>id_comentario</th>\n",
       "      <th>rating_do_comentario</th>\n",
       "      <th>quantidade_avaliacoes_do_produto</th>\n",
       "      <th>comentario_about_produto</th>\n",
       "      <th>data_coleta</th>\n",
       "    </tr>\n",
       "  </thead>\n",
       "  <tbody>\n",
       "    <tr>\n",
       "      <th>0</th>\n",
       "      <td>80054742</td>\n",
       "      <td>80054742</td>\n",
       "      <td>68ea88d327ae04a3a6680c51</td>\n",
       "      <td>5</td>\n",
       "      <td>2308</td>\n",
       "      <td>O smartphone parece ser muito bom apesar de ai...</td>\n",
       "      <td>2025-10-22 21:16:16</td>\n",
       "    </tr>\n",
       "    <tr>\n",
       "      <th>1</th>\n",
       "      <td>80054742</td>\n",
       "      <td>80054742</td>\n",
       "      <td>68ac9172bbb755975d29447a</td>\n",
       "      <td>5</td>\n",
       "      <td>2308</td>\n",
       "      <td>Achei uma ótima escolha. Muito útil para traba...</td>\n",
       "      <td>2025-10-22 21:16:16</td>\n",
       "    </tr>\n",
       "    <tr>\n",
       "      <th>2</th>\n",
       "      <td>80054742</td>\n",
       "      <td>80054742</td>\n",
       "      <td>68b60274312495cfd879bd61</td>\n",
       "      <td>5</td>\n",
       "      <td>2308</td>\n",
       "      <td>Muito bom e entrega super rápida no mesmo dia.</td>\n",
       "      <td>2025-10-22 21:16:16</td>\n",
       "    </tr>\n",
       "    <tr>\n",
       "      <th>3</th>\n",
       "      <td>80054742</td>\n",
       "      <td>80054742</td>\n",
       "      <td>68ac9190bbb755975d29ab31</td>\n",
       "      <td>5</td>\n",
       "      <td>2308</td>\n",
       "      <td>Excelente produto.</td>\n",
       "      <td>2025-10-22 21:16:16</td>\n",
       "    </tr>\n",
       "    <tr>\n",
       "      <th>4</th>\n",
       "      <td>80054742</td>\n",
       "      <td>80054742</td>\n",
       "      <td>68ac9172bbb755975d293822</td>\n",
       "      <td>4</td>\n",
       "      <td>2308</td>\n",
       "      <td>Ótimo</td>\n",
       "      <td>2025-10-22 21:16:16</td>\n",
       "    </tr>\n",
       "  </tbody>\n",
       "</table>\n",
       "</div>"
      ],
      "text/plain": [
       "   id_produto  id_avaliacoes             id_comentario  rating_do_comentario  \\\n",
       "0    80054742       80054742  68ea88d327ae04a3a6680c51                     5   \n",
       "1    80054742       80054742  68ac9172bbb755975d29447a                     5   \n",
       "2    80054742       80054742  68b60274312495cfd879bd61                     5   \n",
       "3    80054742       80054742  68ac9190bbb755975d29ab31                     5   \n",
       "4    80054742       80054742  68ac9172bbb755975d293822                     4   \n",
       "\n",
       "   quantidade_avaliacoes_do_produto  \\\n",
       "0                              2308   \n",
       "1                              2308   \n",
       "2                              2308   \n",
       "3                              2308   \n",
       "4                              2308   \n",
       "\n",
       "                            comentario_about_produto          data_coleta  \n",
       "0  O smartphone parece ser muito bom apesar de ai...  2025-10-22 21:16:16  \n",
       "1  Achei uma ótima escolha. Muito útil para traba...  2025-10-22 21:16:16  \n",
       "2     Muito bom e entrega super rápida no mesmo dia.  2025-10-22 21:16:16  \n",
       "3                                 Excelente produto.  2025-10-22 21:16:16  \n",
       "4                                              Ótimo  2025-10-22 21:16:16  "
      ]
     },
     "metadata": {},
     "output_type": "display_data"
    }
   ],
   "source": [
    "# Passo 1: Setup e Carregamento dos Dados\n",
    "\n",
    "import pandas as pd\n",
    "import sys\n",
    "import os\n",
    "\n",
    "# Pega o caminho do diretório onde o notebook está (a pasta 'notebooks/')\n",
    "try:\n",
    "    # Esta linha funciona na maioria dos ambientes de script\n",
    "    notebook_dir = os.path.dirname(os.path.abspath(\"__file__\"))\n",
    "except NameError:\n",
    "    # Este é o fallback que funciona em notebooks interativos (Jupyter, Databricks)\n",
    "    notebook_dir = os.getcwd()\n",
    "\n",
    "# Navega um nível acima ('../') para chegar à pasta raiz do projeto ('bi-web-scrapping/')\n",
    "project_root = os.path.abspath(os.path.join(notebook_dir, '..'))\n",
    "\n",
    "# Cria o caminho relativo para a pasta 'src/'\n",
    "src_path = os.path.join(project_root, 'src')\n",
    "\n",
    "# Adiciona a pasta 'src' ao path do sistema para permitir as importações\n",
    "if src_path not in sys.path:\n",
    "    sys.path.insert(0, src_path)\n",
    "\n",
    "# Agora, a importação funcionará de forma relativa ao projeto\n",
    "from processing.text_processor import limpar_texto, classificar_sentimento\n",
    "print(\"Módulo 'text_processor' importado com sucesso!\")\n",
    "\n",
    "\n",
    "# --- Carregamento do Arquivo com Caminho Relativo ---\n",
    "\n",
    "# Constrói o caminho relativo para o arquivo de dados\n",
    "file_path = os.path.join(project_root, 'data', 'raw', 'comentarios_produtos.csv')\n",
    "\n",
    "try:\n",
    "    df_reviews = pd.read_csv(file_path, sep='|', on_bad_lines='skip')\n",
    "    print(\"Arquivo de comentários carregado com sucesso!\")\n",
    "    display(df_reviews.head())\n",
    "except FileNotFoundError:\n",
    "    print(f\"\\nERRO: Arquivo não encontrado!\")\n",
    "    print(\"Por favor, verifique se a sua estrutura de pastas está assim:\")\n",
    "    print(\"bi-web-scrapping/ -> data/ -> raw/ -> comentarios_produtos.csv\")\n",
    "except Exception as e:\n",
    "    print(f\"\\nOcorreu um erro ao carregar o arquivo: {e}\")"
   ]
  },
  {
   "cell_type": "markdown",
   "metadata": {
    "application/vnd.databricks.v1+cell": {
     "cellMetadata": {
      "byteLimit": 2048000,
      "rowLimit": 10000
     },
     "inputWidgets": {},
     "nuid": "ef165ee8-eaf2-4345-a6c7-1bf8081e5c24",
     "showTitle": false,
     "tableResultSettingsMap": {},
     "title": ""
    }
   },
   "source": [
    "## Passo 2: Limpeza e Pré-processamento do Texto\n",
    "\n",
    "A limpeza dos dados textuais é uma etapa fundamental para garantir a qualidade da análise. Um texto com ruídos (pontuação, letras maiúsculas, caracteres especiais) pode confundir o modelo de NLP.\n",
    "\n",
    "Nesta etapa, vamos:\n",
    "1.  Remover comentários vazios.\n",
    "2.  Converter todo o texto para minúsculas.\n",
    "3.  Normalizar os caracteres, removendo acentos (ex: `ótimo` vira `otimo`).\n",
    "4.  Remover tudo que não for letras ou espaços.\n",
    "\n",
    "Isso cria uma nova coluna, `comentario_limpo`, que servirá de base para a nossa análise."
   ]
  },
  {
   "cell_type": "code",
   "execution_count": 25,
   "metadata": {
    "application/vnd.databricks.v1+cell": {
     "cellMetadata": {
      "byteLimit": 2048000,
      "rowLimit": 10000
     },
     "inputWidgets": {},
     "nuid": "824d31d2-9d25-4a9c-9fcb-e06781501f30",
     "showTitle": false,
     "tableResultSettingsMap": {},
     "title": ""
    }
   },
   "outputs": [
    {
     "name": "stdout",
     "output_type": "stream",
     "text": [
      "Limpeza de texto concluída.\n"
     ]
    },
    {
     "data": {
      "text/html": [
       "<div>\n",
       "<style scoped>\n",
       "    .dataframe tbody tr th:only-of-type {\n",
       "        vertical-align: middle;\n",
       "    }\n",
       "\n",
       "    .dataframe tbody tr th {\n",
       "        vertical-align: top;\n",
       "    }\n",
       "\n",
       "    .dataframe thead th {\n",
       "        text-align: right;\n",
       "    }\n",
       "</style>\n",
       "<table border=\"1\" class=\"dataframe\">\n",
       "  <thead>\n",
       "    <tr style=\"text-align: right;\">\n",
       "      <th></th>\n",
       "      <th>comentario_about_produto</th>\n",
       "      <th>comentario_limpo</th>\n",
       "    </tr>\n",
       "  </thead>\n",
       "  <tbody>\n",
       "    <tr>\n",
       "      <th>0</th>\n",
       "      <td>O smartphone parece ser muito bom apesar de ai...</td>\n",
       "      <td>o smartphone parece ser muito bom apesar de ai...</td>\n",
       "    </tr>\n",
       "    <tr>\n",
       "      <th>1</th>\n",
       "      <td>Achei uma ótima escolha. Muito útil para traba...</td>\n",
       "      <td>achei uma otima escolha muito util para trabal...</td>\n",
       "    </tr>\n",
       "    <tr>\n",
       "      <th>2</th>\n",
       "      <td>Muito bom e entrega super rápida no mesmo dia.</td>\n",
       "      <td>muito bom e entrega super rapida no mesmo dia</td>\n",
       "    </tr>\n",
       "    <tr>\n",
       "      <th>3</th>\n",
       "      <td>Excelente produto.</td>\n",
       "      <td>excelente produto</td>\n",
       "    </tr>\n",
       "    <tr>\n",
       "      <th>4</th>\n",
       "      <td>Ótimo</td>\n",
       "      <td>otimo</td>\n",
       "    </tr>\n",
       "  </tbody>\n",
       "</table>\n",
       "</div>"
      ],
      "text/plain": [
       "                            comentario_about_produto  \\\n",
       "0  O smartphone parece ser muito bom apesar de ai...   \n",
       "1  Achei uma ótima escolha. Muito útil para traba...   \n",
       "2     Muito bom e entrega super rápida no mesmo dia.   \n",
       "3                                 Excelente produto.   \n",
       "4                                              Ótimo   \n",
       "\n",
       "                                    comentario_limpo  \n",
       "0  o smartphone parece ser muito bom apesar de ai...  \n",
       "1  achei uma otima escolha muito util para trabal...  \n",
       "2      muito bom e entrega super rapida no mesmo dia  \n",
       "3                                  excelente produto  \n",
       "4                                              otimo  "
      ]
     },
     "metadata": {},
     "output_type": "display_data"
    }
   ],
   "source": [
    "df_cleaned = df_reviews.copy()\n",
    "df_cleaned.dropna(subset=['comentario_about_produto'], inplace=True)\n",
    "\n",
    "# Aplica a função de limpeza importada do nosso módulo\n",
    "df_cleaned['comentario_limpo'] = df_cleaned['comentario_about_produto'].apply(limpar_texto)\n",
    "\n",
    "df_cleaned = df_cleaned[df_cleaned['comentario_limpo'].str.strip() != '']\n",
    "\n",
    "print(\"Limpeza de texto concluída.\")\n",
    "display(df_cleaned[['comentario_about_produto', 'comentario_limpo']].head())"
   ]
  },
  {
   "cell_type": "markdown",
   "metadata": {
    "application/vnd.databricks.v1+cell": {
     "cellMetadata": {
      "byteLimit": 2048000,
      "rowLimit": 10000
     },
     "inputWidgets": {},
     "nuid": "0453198a-4f7a-4572-a5ad-9480562faf5d",
     "showTitle": false,
     "tableResultSettingsMap": {},
     "title": ""
    }
   },
   "source": [
    "## Passo 3: Classificação de Sentimento com Abordagem Híbrida\n",
    "\n",
    "A análise inicial mostrou que usar apenas um modelo de texto ou apenas a nota do usuário gera inconsistências. Para obter um resultado mais preciso e profissional, implementamos uma **abordagem híbrida de múltiplas camadas**:\n",
    "\n",
    "1.  **Camada 1 (Regras por Nota):** A nota do usuário (`rating`) é a fonte mais confiável. Definimos que:\n",
    "    * **4 ou 5 estrelas** são classificadas como `Positivo`.\n",
    "    * **1 ou 2 estrelas** são classificadas como `Negativo`.\n",
    "\n",
    "2.  **Camada 2 (NLP para Ambiguidade):** Comentários com **3 estrelas** são ambíguos. Nesses casos, usamos a biblioteca `LeIA` para analisar o texto e definir o sentimento.\n",
    "\n",
    "3.  **Camada 3 (Correção de Inconsistências):** O principal desafio são os usuários que dão uma nota baixa (1 ou 2) mas escrevem um texto positivo (ex: \"Ótimo\"). Nossa camada final corrige isso:\n",
    "    * Ela reavalia todos os comentários classificados como `Negativo`.\n",
    "    * Se o texto contiver palavras-chave fortemente positivas (como \"ótimo\", \"perfeito\", \"adorei\") ou se a análise do `LeIA` mostrar um sentimento positivo, a classificação é **corrigida** para `Positivo`."
   ]
  },
  {
   "cell_type": "code",
   "execution_count": 26,
   "metadata": {
    "application/vnd.databricks.v1+cell": {
     "cellMetadata": {
      "byteLimit": 2048000,
      "rowLimit": 10000
     },
     "inputWidgets": {},
     "nuid": "aa5bb3ae-e6c5-4f08-990c-f11cebdaf7c5",
     "showTitle": false,
     "tableResultSettingsMap": {},
     "title": ""
    }
   },
   "outputs": [
    {
     "name": "stdout",
     "output_type": "stream",
     "text": [
      "Iniciando a classificação de sentimento com o módulo de processamento...\n",
      "\n",
      "Análise de sentimento concluída!\n"
     ]
    },
    {
     "data": {
      "text/plain": [
       "sentimento\n",
       "Positivo    2162\n",
       "Negativo      43\n",
       "Neutro         5\n",
       "Name: count, dtype: int64"
      ]
     },
     "metadata": {},
     "output_type": "display_data"
    }
   ],
   "source": [
    "print(\"Iniciando a classificação de sentimento com o módulo de processamento...\")\n",
    "\n",
    "# Aplica a função de classificação completa importada do nosso módulo\n",
    "df_final = classificar_sentimento(df_cleaned)\n",
    "\n",
    "print(\"\\nAnálise de sentimento concluída!\")\n",
    "display(df_final['sentimento'].value_counts())"
   ]
  },
  {
   "cell_type": "markdown",
   "metadata": {
    "application/vnd.databricks.v1+cell": {
     "cellMetadata": {
      "byteLimit": 2048000,
      "rowLimit": 10000
     },
     "inputWidgets": {},
     "nuid": "a2ae03aa-3bb9-469b-b1e7-20753b9126bc",
     "showTitle": false,
     "tableResultSettingsMap": {},
     "title": ""
    }
   },
   "source": [
    "## Passo 4: Validação e Salvamento do Resultado Final\n",
    "\n",
    "Com a classificação concluída, a última etapa é gerar o arquivo CSV final, que servirá como entregável para a Semana 2 e como insumo para as próximas fases do projeto. O arquivo será salvo como `comentarios_classificados.csv` no mesmo Volume."
   ]
  },
  {
   "cell_type": "code",
   "execution_count": 28,
   "metadata": {
    "application/vnd.databricks.v1+cell": {
     "cellMetadata": {
      "byteLimit": 2048000,
      "rowLimit": 10000
     },
     "inputWidgets": {},
     "nuid": "866b6630-2ddf-4354-8ed5-a9d93da1d10b",
     "showTitle": false,
     "tableResultSettingsMap": {},
     "title": ""
    }
   },
   "outputs": [
    {
     "name": "stdout",
     "output_type": "stream",
     "text": [
      "Exibindo os primeiros 20 registros do DataFrame final para validação:\n"
     ]
    },
    {
     "data": {
      "text/html": [
       "<div>\n",
       "<style scoped>\n",
       "    .dataframe tbody tr th:only-of-type {\n",
       "        vertical-align: middle;\n",
       "    }\n",
       "\n",
       "    .dataframe tbody tr th {\n",
       "        vertical-align: top;\n",
       "    }\n",
       "\n",
       "    .dataframe thead th {\n",
       "        text-align: right;\n",
       "    }\n",
       "</style>\n",
       "<table border=\"1\" class=\"dataframe\">\n",
       "  <thead>\n",
       "    <tr style=\"text-align: right;\">\n",
       "      <th></th>\n",
       "      <th>rating_do_comentario</th>\n",
       "      <th>sentimento</th>\n",
       "      <th>comentario_about_produto</th>\n",
       "    </tr>\n",
       "  </thead>\n",
       "  <tbody>\n",
       "    <tr>\n",
       "      <th>0</th>\n",
       "      <td>5</td>\n",
       "      <td>Positivo</td>\n",
       "      <td>O smartphone parece ser muito bom apesar de ai...</td>\n",
       "    </tr>\n",
       "    <tr>\n",
       "      <th>1</th>\n",
       "      <td>5</td>\n",
       "      <td>Positivo</td>\n",
       "      <td>Achei uma ótima escolha. Muito útil para traba...</td>\n",
       "    </tr>\n",
       "    <tr>\n",
       "      <th>2</th>\n",
       "      <td>5</td>\n",
       "      <td>Positivo</td>\n",
       "      <td>Muito bom e entrega super rápida no mesmo dia.</td>\n",
       "    </tr>\n",
       "    <tr>\n",
       "      <th>3</th>\n",
       "      <td>5</td>\n",
       "      <td>Positivo</td>\n",
       "      <td>Excelente produto.</td>\n",
       "    </tr>\n",
       "    <tr>\n",
       "      <th>4</th>\n",
       "      <td>4</td>\n",
       "      <td>Positivo</td>\n",
       "      <td>Ótimo</td>\n",
       "    </tr>\n",
       "    <tr>\n",
       "      <th>5</th>\n",
       "      <td>5</td>\n",
       "      <td>Positivo</td>\n",
       "      <td>Muito bom</td>\n",
       "    </tr>\n",
       "    <tr>\n",
       "      <th>6</th>\n",
       "      <td>5</td>\n",
       "      <td>Positivo</td>\n",
       "      <td>Samsung é uma ótima marca de qualidade e eu se...</td>\n",
       "    </tr>\n",
       "    <tr>\n",
       "      <th>7</th>\n",
       "      <td>4</td>\n",
       "      <td>Positivo</td>\n",
       "      <td>O produto é bom</td>\n",
       "    </tr>\n",
       "    <tr>\n",
       "      <th>8</th>\n",
       "      <td>5</td>\n",
       "      <td>Positivo</td>\n",
       "      <td>Excelente produto, comprei para minha mãe e el...</td>\n",
       "    </tr>\n",
       "    <tr>\n",
       "      <th>9</th>\n",
       "      <td>5</td>\n",
       "      <td>Positivo</td>\n",
       "      <td>Chegou adiantado, ele é muito lindo, boa image...</td>\n",
       "    </tr>\n",
       "    <tr>\n",
       "      <th>10</th>\n",
       "      <td>5</td>\n",
       "      <td>Positivo</td>\n",
       "      <td>Excelente!! super recomendo</td>\n",
       "    </tr>\n",
       "    <tr>\n",
       "      <th>11</th>\n",
       "      <td>5</td>\n",
       "      <td>Positivo</td>\n",
       "      <td>Muito bonito</td>\n",
       "    </tr>\n",
       "    <tr>\n",
       "      <th>12</th>\n",
       "      <td>5</td>\n",
       "      <td>Positivo</td>\n",
       "      <td>Atendimento e produto de qualidade!</td>\n",
       "    </tr>\n",
       "    <tr>\n",
       "      <th>13</th>\n",
       "      <td>5</td>\n",
       "      <td>Positivo</td>\n",
       "      <td>Aparelho bom</td>\n",
       "    </tr>\n",
       "    <tr>\n",
       "      <th>14</th>\n",
       "      <td>5</td>\n",
       "      <td>Positivo</td>\n",
       "      <td>Celular e muito bom minha filha amor 😍</td>\n",
       "    </tr>\n",
       "    <tr>\n",
       "      <th>15</th>\n",
       "      <td>5</td>\n",
       "      <td>Positivo</td>\n",
       "      <td>O meu pedido chegou rápido.no prazo☺ celular é...</td>\n",
       "    </tr>\n",
       "    <tr>\n",
       "      <th>16</th>\n",
       "      <td>5</td>\n",
       "      <td>Positivo</td>\n",
       "      <td>Gostei muito de Cell, do jeito do anúncio, bem...</td>\n",
       "    </tr>\n",
       "    <tr>\n",
       "      <th>17</th>\n",
       "      <td>5</td>\n",
       "      <td>Positivo</td>\n",
       "      <td>Amei, excelente aparelho, bastante memória. Ne...</td>\n",
       "    </tr>\n",
       "    <tr>\n",
       "      <th>18</th>\n",
       "      <td>5</td>\n",
       "      <td>Positivo</td>\n",
       "      <td>E muito bom</td>\n",
       "    </tr>\n",
       "    <tr>\n",
       "      <th>19</th>\n",
       "      <td>5</td>\n",
       "      <td>Positivo</td>\n",
       "      <td>Top bom ótimo desempenho recomendo muito ótimo...</td>\n",
       "    </tr>\n",
       "  </tbody>\n",
       "</table>\n",
       "</div>"
      ],
      "text/plain": [
       "    rating_do_comentario sentimento  \\\n",
       "0                      5   Positivo   \n",
       "1                      5   Positivo   \n",
       "2                      5   Positivo   \n",
       "3                      5   Positivo   \n",
       "4                      4   Positivo   \n",
       "5                      5   Positivo   \n",
       "6                      5   Positivo   \n",
       "7                      4   Positivo   \n",
       "8                      5   Positivo   \n",
       "9                      5   Positivo   \n",
       "10                     5   Positivo   \n",
       "11                     5   Positivo   \n",
       "12                     5   Positivo   \n",
       "13                     5   Positivo   \n",
       "14                     5   Positivo   \n",
       "15                     5   Positivo   \n",
       "16                     5   Positivo   \n",
       "17                     5   Positivo   \n",
       "18                     5   Positivo   \n",
       "19                     5   Positivo   \n",
       "\n",
       "                             comentario_about_produto  \n",
       "0   O smartphone parece ser muito bom apesar de ai...  \n",
       "1   Achei uma ótima escolha. Muito útil para traba...  \n",
       "2      Muito bom e entrega super rápida no mesmo dia.  \n",
       "3                                  Excelente produto.  \n",
       "4                                               Ótimo  \n",
       "5                                           Muito bom  \n",
       "6   Samsung é uma ótima marca de qualidade e eu se...  \n",
       "7                                     O produto é bom  \n",
       "8   Excelente produto, comprei para minha mãe e el...  \n",
       "9   Chegou adiantado, ele é muito lindo, boa image...  \n",
       "10                        Excelente!! super recomendo  \n",
       "11                                       Muito bonito  \n",
       "12                Atendimento e produto de qualidade!  \n",
       "13                                       Aparelho bom  \n",
       "14             Celular e muito bom minha filha amor 😍  \n",
       "15  O meu pedido chegou rápido.no prazo☺ celular é...  \n",
       "16  Gostei muito de Cell, do jeito do anúncio, bem...  \n",
       "17  Amei, excelente aparelho, bastante memória. Ne...  \n",
       "18                                        E muito bom  \n",
       "19  Top bom ótimo desempenho recomendo muito ótimo...  "
      ]
     },
     "metadata": {},
     "output_type": "display_data"
    },
    {
     "name": "stdout",
     "output_type": "stream",
     "text": [
      "\n",
      "Sucesso! O arquivo com os sentimentos classificados foi salvo em:\n",
      "data\\output\\comentarios_classificados.csv\n"
     ]
    }
   ],
   "source": [
    "# Passo 4: Validação e Salvamento do Resultado Final\n",
    "\n",
    "# Validação: exibe os primeiros 20 registros para uma última verificação\n",
    "print(\"Exibindo os primeiros 20 registros do DataFrame final para validação:\")\n",
    "display(df_cleaned[['rating_do_comentario', 'sentimento', 'comentario_about_produto']].head(20))\n",
    "\n",
    "# O arquivo será salvo em 'bi-web-scrapping/data/output/comentarios_classificados.csv'\n",
    "output_path_absolute = os.path.join(project_root, 'data', 'output', 'comentarios_classificados.csv')\n",
    "\n",
    "# Cria uma versão do caminho relativa à pasta do projeto para exibição\n",
    "output_path_relative = os.path.relpath(output_path_absolute, project_root)\n",
    "\n",
    "# Substitui as barras invertidas por barras normais para um visual mais limpo no print\n",
    "output_path_display = output_path_relative.replace('\\\\\\\\', '/')\n",
    "\n",
    "# Seleciona e ordena as colunas para o arquivo final\n",
    "colunas_para_salvar = [\n",
    "    'id_produto', 'id_avaliacoes', 'id_comentario', 'rating_do_comentario',\n",
    "    'comentario_about_produto', 'sentimento', 'data_coleta'\n",
    "]\n",
    "df_final = df_cleaned[colunas_para_salvar]\n",
    "\n",
    "# Salva o DataFrame em um novo arquivo CSV, usando '|' como separador\n",
    "try:\n",
    "    df_final.to_csv(output_path_absolute, sep='|', index=False, encoding='utf-8')\n",
    "    print(f\"\\nSucesso! O arquivo com os sentimentos classificados foi salvo em:\\n{output_path_display}\")\n",
    "except Exception as e:\n",
    "    print(f\"\\nOcorreu um erro ao salvar o arquivo: {e}\")"
   ]
  }
 ],
 "metadata": {
  "application/vnd.databricks.v1+notebook": {
   "computePreferences": null,
   "dashboards": [],
   "environmentMetadata": {
    "base_environment": "",
    "environment_version": "4"
   },
   "inputWidgetPreferences": null,
   "language": "python",
   "notebookMetadata": {
    "pythonIndentUnit": 4
   },
   "notebookName": "Web_Scrapping_ETL_Final",
   "widgets": {}
  },
  "kernelspec": {
   "display_name": "Python 3",
   "language": "python",
   "name": "python3"
  },
  "language_info": {
   "codemirror_mode": {
    "name": "ipython",
    "version": 3
   },
   "file_extension": ".py",
   "mimetype": "text/x-python",
   "name": "python",
   "nbconvert_exporter": "python",
   "pygments_lexer": "ipython3",
   "version": "3.13.2"
  }
 },
 "nbformat": 4,
 "nbformat_minor": 0
}
